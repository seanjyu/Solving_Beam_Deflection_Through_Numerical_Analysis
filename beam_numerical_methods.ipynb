{
 "cells": [
  {
   "cell_type": "markdown",
   "metadata": {},
   "source": [
    "# Solving for beam deflection #\n",
    "A beam is a structural element that resists loads and deforms laterally to the beam's axis. The following equation is an ODE that governs beam deflections based on a given load.\n",
    "$$\n",
    "\\begin{align}\n",
    "&\\frac{d^2}{dx^2}\\left(EI\\frac{d^2w}{dx^2}\\right)=q\\\\\n",
    "\\end{align}$$ <br>\n",
    "Where $w$ is the deflection, $EI$ is a mechanical property and $q$ is the loading condition. If the material and cross section do not vary along the beam this can be simplified to the following fourth order ODE.\n",
    "$$\\begin{align}\n",
    "&\\frac{d^4w(x)}{dx^4}=\\frac{q(x)}{EI}\\\\\n",
    "\\end{align}$$<br>\n",
    "This equation can be integrated to find different stresses and phsyical properties across the beam.\n",
    "$$\n",
    "\\begin{align}\n",
    "&\\frac{d^3w(x)}{dx^3}=\\frac{V(x)}{EI}\\\\\n",
    "&\\frac{d^2w(x)}{dx^2}=\\frac{M(x)}{EI}\\\\\n",
    "&\\frac{dw(x)}{dx}=\\frac{\\theta(x)}{EI}\\\\\n",
    "\\end{align}$$<br>\n",
    "$V(x)$ is the shear force, $M(x)$ is the moment force, $\\theta(x)$ is the rotation of the beam from the undeformed state (horizontal axis). <br><br>\n",
    "These properties are also used to define boundary conditions of the beam. There are various boundary conditions that can be applied but for this project I will consider a simply supported beam. The boundary conditions for this case are as follows:\n",
    "$$\n",
    "\\begin{aligned}\n",
    "M(0)=M(L)=\\frac{d^2w(x)}{dx^2}\\biggr\\rvert_{x=0}&=\\frac{d^2w(x)}{dx^2}\\biggr\\rvert_{x=L}=0\\\\\n",
    "w(0)=w(L)&=0\\\\\n",
    "\\end{aligned}$$\n",
    "Where $L$ is the length of the beam, such that these boundary conditions are applied at both ends of the beam. The moment boundary condition is considered a Neumann boundary condition while the displacement boundary condition is a Dirichlet boundary condition.\n",
    "\n",
    "For the loading, I will consider a distributed load and a triangular load. The functions for these loads are as follows:\n",
    "$$\n",
    "\\begin{align}\n",
    "q_{distributed}(x)=C\\\\\n",
    "q_{triangle}(x)=Cx\n",
    "\\end{align}$$<br>\n",
    "Where $C$ is a constant. The figures below shows what a distributed and triangular loading conditions on a simply supported beam look like. <br>\n",
    "\n",
    "<img src=\"distributed load_1_edit.png\" width =\"300\">\n",
    "<img src=\"triangle_load_edited.PNG\" width =\"300\">\n",
    "\n",
    "By solving the ODE analytically, the deflections for the two loading conditions are as follows:\n",
    "$$\n",
    "\\begin{align}\n",
    "y_{distributed}(x)=\\frac{Cx}{24EI}(L^3-2Lx^3+x^3)\\\\\n",
    "y_{triangular}(x)=\\frac{Cx}{360EIL}(7L^4-10L^2x^3+3x^4)\n",
    "\\end{align}$$<br>\n",
    "\n",
    "Since the problem is a BVP I will use the shooting method and the finite difference method. <br>\n",
    "\n",
    "#### Shooting Method ####\n",
    "For the shooting method, since this problem is a fourth order ODE, it first must be expressed as a linear system of first order ODEs. Using the notation $\\frac{d^{n}w}{dx^{n}}=w_{nx}$:<br>\n",
    "The ODE that I want solve is:<br>\n",
    "$$\n",
    "w_{xxxx}=q(x)\n",
    "$$<br>\n",
    "With the boundary conditions:\n",
    "$$\n",
    "\\begin{align}\n",
    "&w(0)=w(L)=0\\\\\n",
    "&w_{xx}(0)=w_{xx}(L)=0\n",
    "\\end{align}\n",
    "$$\n",
    "Expressed as a linear system of first order ODEs:\n",
    "<br>$$\n",
    "    v = \\begin{bmatrix} w \\\\ w_x \\\\ w_{xx} \\\\ w_{xxx}\\end{bmatrix} = \\begin{bmatrix} v_1 \\\\ v_2 \\\\ v_3 \\\\ v_4\\end{bmatrix} \\quad \\Rightarrow \\quad v_x = \\begin{bmatrix}  w_x \\\\ w_{xx} \\\\ w_{xxx} \\\\ w_{xxxx}\\end{bmatrix} = \\begin{bmatrix} v_2 \\\\ v_3 \\\\ v_4 \\\\ q(x) \\end{bmatrix}\n",
    "$$<br>\n",
    "$v_1$ and $v_3$ are the initial values, $v_2$ and $v_4$ are the unknown values. <br>\n",
    "For the ODE solver I used scipy's ODE integrate function with the Runge Kutta (4)5 Dormand-Prince method (dopri5). The problem should not be stiff therefore an explicit method should be able to solve the problem with no issues. <br><br>\n",
    "\n",
    "To implement the shooting method there are four values needed to solve the IVP, two of them are given ($w(0)=0$ and $M(0)=0$) and the other two are to be optimized, namely the shear ($V$) and rotation ($\\theta$). These values will be optimized so that the boundary conditions at the end of the beam are achieved ($w(L)=0$ and $M(L)=0$). As this is a root finding problem, I used the secant method due to its superlinear convergence rate. Since there are two unknown values I use the method twice with different values. To find the value for $V(0)$, the root of the moment ($M(L)$) against $V(0)$ was found and to find the value for $\\theta(0)$ the root of the displacement ($w(L)$) agaisnt $\\theta(0)$ was found. <br><br>\n",
    "\n",
    "#### Finite Difference Method ####\n",
    "For the finite difference method, given that the beam is segmented into $N$ nodes (counting from $1$), for nodes 2 to $N-1$  I used the central difference for a fourth order ODE which is as follows:<br>\n",
    "$$\n",
    "w_{xxxx}(x_2)=\\frac{w(x_{0})-4w(x_{1})+6w(x_{2})-4w(x_{3})+w(x_{4})}{\\Delta x^4}\n",
    "$$<br>\n",
    "The subscript denotes the node number. An extra 'fictitious' node is added before node $1$ and after node $N$ (i.e. node $0$ and $N+1$) to help impose the Neumann boundary condition of the moment being zero at the ends. This also allows the central difference equation to be used on the second and second last nodes. The central difference of a second order ODE was used to define the Neumann boundary condition. The following equation shows this at centered at node $1$:<br> \n",
    "<br>$$\n",
    "    w_{xx}(x_1)=\\frac{w(x_{0})-2w(x_{1})+w(x_{2})}{\\Delta x^2} = 0\n",
    "    $$<br>\n",
    "Furthermore, the dirchlet boundary condition of $w(0)=w(L)=0$ can be used to simplify this to just the $w(x_{0})$ and $w(x_{2})$ terms. This means the second and second last row row in the $A$ matrix are all zeros except for one column. For the $b$ matrix, the first and last 2 values are zero to meet the Dirichlet and Neumann boundary conditions, the rest are the loads at each point. The matrix below illustrates a sample linear solution for a system of 7 nodes (looks unaligned due to the fractions in the $A$ matrix but there are 9 rows in each of these matrices): \n",
    "<br>$$\n",
    "    \\begin{bmatrix}\n",
    "    \\frac{1}{\\Delta x^2} &   & \\frac{1}{\\Delta x^2}   &    & & & & &\\\\\n",
    "    & 1 &   &    & & & & &   \\\\\n",
    "    \\frac{1}{\\Delta x^4} &  \\frac{-4}{\\Delta x^4} & \\frac{6}{\\Delta x^4} &  \\frac{-4}{\\Delta x^4} & \\frac{1}{\\Delta x^4} & & & &   \\\\\n",
    "    & \\frac{1}{\\Delta x^4} &  \\frac{-4}{\\Delta x^4} & \\frac{6}{\\Delta x^4} &  \\frac{-4}{\\Delta x^4} & \\frac{1}{\\Delta x^4} & & & \\\\\n",
    "    & & \\frac{1}{\\Delta x^4} &  \\frac{-4}{\\Delta x^4} & \\frac{6}{\\Delta x^4} &  \\frac{-4}{\\Delta x^4} & \\frac{1}{\\Delta x^4} & &  \\\\\n",
    "    & & & \\frac{1}{\\Delta x^4} &  \\frac{-4}{\\Delta x^4} & \\frac{6}{\\Delta x^4} &  \\frac{-4}{\\Delta x^4} & \\frac{1}{\\Delta x^4} &\\\\ \n",
    "    & & & &\\frac{1}{\\Delta x^4} &  \\frac{-4}{\\Delta x^4} & \\frac{6}{\\Delta x^4} &  \\frac{-4}{\\Delta x^4} & \\frac{1}{\\Delta x^4} \\\\ \n",
    "    & & & & & & & 1 & \\\\\n",
    "    & & & & & & \\frac{1}{\\Delta x^2} &  & \\frac{1}{\\Delta x^2}\n",
    "    \\end{bmatrix} \\begin{bmatrix}\n",
    "        w_0 \\\\w_1 \\\\ w_2 \\\\ w_3 \\\\ w_4 \\\\ w_5 \\\\ w_6 \\\\ w_7\\\\ w_8\n",
    "    \\end{bmatrix} = \n",
    "    \\begin{bmatrix}\n",
    "        0 \\\\ 0 \\\\ q(x_2) \\\\ q(x_3) \\\\ q(x_4) \\\\ q(x_5) \\\\ q(x_6) \\\\ 0 \\\\ 0\n",
    "    \\end{bmatrix}.\n",
    "$$ <br>\n",
    "In the implementation I will also compare the convergence of the solution as the number of nodes increases."
   ]
  },
  {
   "cell_type": "markdown",
   "metadata": {},
   "source": [
    "#### Setting Up General problem ####\n",
    "\n",
    "For the following problem I will solve a beam with $EI=4176000*38.8/144=1125200 \\text{kip-ft}^2$ and a length of $10$ ft. For the distributed load I will use a load of $100 \\text{kip-ft}^{-1}$ and for the triangular load, the load will start from $0$ and end at $100 \\text{kip-ft}^{-1}$. Plots of each of these loading conditions will be made however, the numpy.testing routine will only be used to check the values for the distributed load. The shooting method will be checked agaisnt the initial values for the shear and moment, which for a distributed load are given by the following equations (rotation is negative due to sign conventions):\n",
    "$$\n",
    "\\begin{align}\n",
    "v(0)=\\frac{qL}{2}=500\\\\\n",
    "\\theta(0)=\\frac{qL^3}{24}=-4166.67\n",
    "\\end{align}\n",
    "$$\n",
    "The finite difference method will be checked agaisnt the largest displacement displacement, which is given by (load is in opposite direction of y-axis therefore a negative deflection is obtained): \n",
    "$$\n",
    "w_{max}=\\frac{5qL^4}{384EI}=-1.66637\n",
    "$$\n",
    "\n",
    "#### Shooting Method ####\n",
    "\n",
    "##### General functions and Integration function ######\n",
    "\n",
    "The following code block is the integrating function and some general functions. Scipy integrate was used to solve the system of ODEs."
   ]
  },
  {
   "cell_type": "code",
   "execution_count": 1,
   "metadata": {},
   "outputs": [],
   "source": [
    "from __future__ import print_function\n",
    "import scipy.integrate as integrate\n",
    "import numpy\n",
    "import matplotlib.pyplot as plt\n",
    "import pandas as pd\n",
    "%matplotlib inline\n",
    "%precision 16\n",
    "\n",
    "#Constants\n",
    "EI=29000*38.8/144\n",
    "L=10\n",
    "\n",
    "#Define functions for load\n",
    "def q_constant(x):\n",
    "    \"\"\"\n",
    "    Function for distributed load given distance along beam in ft, note for distributed load the loading is independent \n",
    "    to the distance along the beam \n",
    "    \n",
    "    Inputs:x = distance from edge of beam\n",
    "    Outputs:load in kip/ft\n",
    "    \"\"\"\n",
    "    return -100\n",
    "def q_triangle(x):\n",
    "    \"\"\"\n",
    "    Function for triangular load given distance along beam in ft\n",
    "    \n",
    "    Inputs: x = distance from edge of beam  \n",
    "    Outputs: q = load in kip/ft\n",
    "    \"\"\"\n",
    "    return -10*x\n",
    "def w_exact_constant(q,EI,L,x):\n",
    "    \"\"\"\n",
    "    Function for exact displacements for distributed load on simply suppored beam in ft\n",
    "    \n",
    "    Inputs:x = distance from edge of beam in ft\n",
    "           q = load in kip/ft\n",
    "           EI = Mechanical constant\n",
    "           L = Total length of beam\n",
    "    Outputs:w = Displacement at point x\n",
    "    \"\"\"\n",
    "    return -q*x*(L**3-2*L*x**2+x**3)/(24*EI)\n",
    "def w_exact_triangle(q,EI,L,x):\n",
    "    \"\"\"\n",
    "    Function for exact displacements for triangular load on simply suppored beam in ft\n",
    "    \n",
    "    Inputs:x = distance from edge of beam in ft\n",
    "           q = load in kip/ft\n",
    "           EI = Mechanical constant\n",
    "           L = Total length of beam\n",
    "    Outputs:w = Displacement at point x\n",
    "    \"\"\"\n",
    "    return -q*x*(7*L**4-10*(L**2)*(x**2)+3*x**4)/(360*EI*L)\n",
    "\n",
    "#Define function for RHS\n",
    "def f_dist(x, u):\n",
    "    \"\"\"\n",
    "    RHS for ODE solver matrix for distributed loads\n",
    "    \n",
    "    Inputs:x = distance from edge of beam in ft\n",
    "           u = matrix containing w, w_x, w_xx, w_xxx \n",
    "    Outputs:v' = RHS for ODE solver\n",
    "    \"\"\"\n",
    "    return numpy.array([u[1],u[2],u[3],q_constant(x)]) \n",
    "\n",
    "def f_triangle(x, u):\n",
    "    \"\"\"\n",
    "    RHS for ODE solver matrix for triangular loads\n",
    "    \n",
    "    Inputs:x = distance from edge of beam in ft\n",
    "           u = matrix containing w, w_x, w_xx, w_xxx \n",
    "    Outputs:v' = RHS for ODE solver\n",
    "    \"\"\"\n",
    "    return numpy.array([u[1],u[2],u[3],q_triangle(x)]) \n",
    "\n",
    "#Define integrate function\n",
    "def integrate_fx(w_0,theta_0,m_0,v_0,f,N):\n",
    "    \"\"\"\n",
    "    Function that integrates system of ODEs, outputs solution for displacements, rotations, moments and shear \n",
    "    Code is adapted from the jupyter notebook 16_ODE_BVP\n",
    "    \n",
    "    Inputs:w_0 = Initial displacement\n",
    "           theta_0 = Initial rotation\n",
    "           m_0 = Initial moment\n",
    "           v_0 = Initial Shear\n",
    "           N = Number of nodes\n",
    "    Outputs:u = matrix with displacements, rotations, moments and shears across the beam\n",
    "    \"\"\"\n",
    "    #Set up nodes\n",
    "    x = numpy.linspace(0, int(L), int(N))\n",
    "    \n",
    "    #Set up solution matrix (u) and initial variables, u[1,0] and u[3,0] are the guesses\n",
    "    u = numpy.empty((4, N))\n",
    "    u[0, 0] = w_0\n",
    "    u[1, 0] = theta_0\n",
    "    u[2, 0] = m_0\n",
    "    u[3, 0] = v_0\n",
    "\n",
    "    #Set up integrator\n",
    "    \n",
    "    integrator = integrate.ode(f)\n",
    "    integrator.set_integrator(\"dopri5\")\n",
    "    integrator.set_initial_value(u[:, 0])\n",
    "\n",
    "    for (i, x_output) in enumerate(x[1:]):\n",
    "        integrator.integrate(x_output)\n",
    "        if not integrator.successful():\n",
    "           raise Exception(\"Integration Failed!\")\n",
    "        u[:, i + 1] = integrator.y\n",
    "    return u/EI"
   ]
  },
  {
   "cell_type": "markdown",
   "metadata": {},
   "source": [
    "##### Implementing the shooting method #####\n",
    "\n",
    "The code block below implements the shooting method optimized using the secant method. Plot below shows the displacement of the exact solution and the shooting method using 50 Nodes. A numpy.testing routine is used to verify the initial shear and rotation with the analytical solution."
   ]
  },
  {
   "cell_type": "code",
   "execution_count": 2,
   "metadata": {},
   "outputs": [
    {
     "name": "stdout",
     "output_type": "stream",
     "text": [
      "Solutions for v(0) and theta(0) are similar to analytical solutions!\n",
      "Final initial variables, v_0= 499.999999999975  theta_0= -4166.666666669653\n",
      "Maximum Deflection of  -1.6655376426542208  at x= 5.1020408163265305\n"
     ]
    },
    {
     "data": {
      "image/png": "[encoded data removed]",
      "text/plain": [
       "<Figure size 432x288 with 1 Axes>"
      ]
     },
     "metadata": {
      "needs_background": "light"
     },
     "output_type": "display_data"
    }
   ],
   "source": [
    "#Number of Nodes\n",
    "N=50\n",
    "N_exact=100\n",
    "x = numpy.linspace(0, int(L), int(N))\n",
    "x_exact = numpy.linspace(0, int(L), int(N_exact))\n",
    "#Boundary conditions\n",
    "m_0=0\n",
    "m_L=0\n",
    "w_0=0\n",
    "w_L=0\n",
    "\n",
    "#Initial Guesses\n",
    "v_0=1\n",
    "theta_0=1 \n",
    "\n",
    "#Implement shooting method optimized with Secant Method\n",
    "max_iter_v = 100\n",
    "max_iter_t = 100\n",
    "        \n",
    "tol=1e-10\n",
    "#Initialize brackets for Secant Method\n",
    "x_0=v_0\n",
    "x_1=v_0+1\n",
    "t_0=theta_0\n",
    "t_1=theta_0+1\n",
    "\n",
    "sol_array = []\n",
    "for k in range(1, max_iter_v + 1):\n",
    "    \n",
    "    #Implement Secant method for moment against shear\n",
    "    f_x_0=integrate_fx(w_0,theta_0,m_0,x_0,f_dist,N)[2][-1]\n",
    "    f_x_1=integrate_fx(w_0,theta_0,m_0,x_1,f_dist,N)[2][-1]\n",
    "    \n",
    "    x_2 = x_1 - f_x_1 * (x_1 - x_0) / (f_x_1 - f_x_0)\n",
    "    f_x_2=integrate_fx(w_0,theta_0,m_0,x_2,f_dist,N)[2][-1]\n",
    "    err=numpy.abs(f_x_2)\n",
    "    sol_array.append(x_2)\n",
    "    if err < tol:\n",
    "        break\n",
    "    x_0 = x_1\n",
    "    x_1 = x_2\n",
    "    \n",
    "    if k == max_iter_v:\n",
    "        warnings.warn('Maximum number of steps exceeded for Secant Method (Moment-Shear)')\n",
    "                       \n",
    "for j in range(1, max_iter_t + 1):\n",
    "\n",
    "    #Implement Secant method for deflection against rotation\n",
    "    f_x_0t=integrate_fx(w_0,t_0,m_0,x_2,f_dist,N)[0][-1]\n",
    "    f_x_1t=integrate_fx(w_0,t_1,m_0,x_2,f_dist,N)[0][-1]\n",
    "\n",
    "    t_2 = t_1 - f_x_1t * (t_1 - t_0) / (f_x_1t - f_x_0t)\n",
    "    f_x_2t=integrate_fx(w_0,t_2,m_0,x_2,f_dist,N)[0][-1]\n",
    "    err=numpy.abs(f_x_2t)\n",
    "    sol_array.append(f_x_2t)\n",
    "    if err < tol:\n",
    "        break\n",
    "    t_0 = t_1\n",
    "    t_1 = t_2\n",
    "    #\n",
    "    if j == max_iter_t:\n",
    "        warnings.warn('Maximum number of steps exceeded for Secant Method (Deflection-Rotation)')\n",
    "\n",
    "numpy.testing.assert_allclose(500, x_2, rtol=1e-5)\n",
    "numpy.testing.assert_allclose(-4166.666667, t_2, rtol=1e-3)\n",
    "print(\"Solutions for v(0) and theta(0) are similar to analytical solutions!\")\n",
    "print('Final initial variables, v_0=',x_2,' theta_0=',t_2)\n",
    "sol=integrate_fx(w_0,t_2,m_0,x_2,f_dist,N)\n",
    "print('Maximum Deflection of ',min(sol[0]),' at x=',x[numpy.where(sol[0]==min(sol[0]))[0][0]])\n",
    "\n",
    "plt.plot(x,sol[0,:],label='Shooting Method')\n",
    "plt.plot(x_exact,w_exact_constant(100,EI,L,x_exact),label='Exact')\n",
    "plt.xlabel('Distance along beam (ft)')\n",
    "plt.ylabel('Deflection (ft)')\n",
    "plt.title('Deflection plot of Distributed load using 50 nodes')\n",
    "plt.legend()\n",
    "plt.show()"
   ]
  },
  {
   "cell_type": "markdown",
   "metadata": {},
   "source": [
    "This can be reproduced with a triangular load."
   ]
  },
  {
   "cell_type": "code",
   "execution_count": 3,
   "metadata": {},
   "outputs": [
    {
     "name": "stdout",
     "output_type": "stream",
     "text": [
      "Final initial variables, v_0= 166.66666666667268  theta_0= -1944.444444444108\n",
      "Maximum Deflection of  -0.8343548966333644  at x= 5.1020408163265305\n"
     ]
    },
    {
     "data": {
      "image/png": "[encoded data removed]",
      "text/plain": [
       "<Figure size 432x288 with 1 Axes>"
      ]
     },
     "metadata": {
      "needs_background": "light"
     },
     "output_type": "display_data"
    }
   ],
   "source": [
    "#Initialize brackets for Secant Method\n",
    "x_0=v_0\n",
    "x_1=v_0+1\n",
    "t_0=theta_0\n",
    "t_1=theta_0+1\n",
    "\n",
    "sol_array = []\n",
    "for k in range(1, max_iter_v + 1):\n",
    "    \n",
    "    #Implement Secant method for moment against shear\n",
    "    f_x_0=integrate_fx(w_0,theta_0,m_0,x_0,f_triangle,N)[2][-1]\n",
    "    f_x_1=integrate_fx(w_0,theta_0,m_0,x_1,f_triangle,N)[2][-1]\n",
    "    \n",
    "    x_2 = x_1 - f_x_1 * (x_1 - x_0) / (f_x_1 - f_x_0)\n",
    "    f_x_2=integrate_fx(w_0,theta_0,m_0,x_2,f_triangle,N)[2][-1]\n",
    "    err=numpy.abs(f_x_2)\n",
    "    sol_array.append(x_2)\n",
    "    if err < tol:\n",
    "        break\n",
    "    x_0 = x_1\n",
    "    x_1 = x_2\n",
    "    \n",
    "    if k == max_iter_v:\n",
    "        warnings.warn('Maximum number of steps exceeded for Secant Method (Moment-Shear)')#\n",
    "                       \n",
    "for j in range(1, max_iter_t + 1):\n",
    "\n",
    "    #Implement Secant method for deflection against rotation\n",
    "    f_x_0t=integrate_fx(w_0,t_0,m_0,x_2,f_triangle,N)[0][-1]\n",
    "    f_x_1t=integrate_fx(w_0,t_1,m_0,x_2,f_triangle,N)[0][-1]\n",
    "\n",
    "    t_2 = t_1 - f_x_1t * (t_1 - t_0) / (f_x_1t - f_x_0t)\n",
    "    f_x_2t=integrate_fx(w_0,t_2,m_0,x_2,f_triangle,N)[0][-1]\n",
    "    err=numpy.abs(f_x_2t)\n",
    "    sol_array.append(f_x_2t)\n",
    "    if err < tol:\n",
    "        break\n",
    "    t_0 = t_1\n",
    "    t_1 = t_2\n",
    "    #\n",
    "    if j == max_iter_t:\n",
    "        warnings.warn('Maximum number of steps exceeded for Secant Method (Deflection-Rotation)')\n",
    "\n",
    "print('Final initial variables, v_0=',x_2,' theta_0=',t_2)\n",
    "sol=integrate_fx(w_0,t_2,m_0,x_2,f_triangle,N)\n",
    "print('Maximum Deflection of ',min(sol[0]),' at x=',x[numpy.where(sol[0]==min(sol[0]))[0][0]])\n",
    "\n",
    "plt.plot(x,sol[0,:],label='Shooting Method')\n",
    "plt.plot(x_exact,w_exact_triangle(100,EI,L,x_exact),label='Exact')\n",
    "plt.xlabel('Distance along beam (ft)')\n",
    "plt.ylabel('Deflection (ft)')\n",
    "plt.title('Deflection plot of triangular load using 50 nodes')\n",
    "plt.legend()\n",
    "plt.show()"
   ]
  },
  {
   "cell_type": "markdown",
   "metadata": {},
   "source": [
    "#### Finite Difference Method ####\n",
    "\n",
    "The code block below is a function that produces uses the displacement using the finite difference method. The code was adapted from the 16_ODE_BVP notebook."
   ]
  },
  {
   "cell_type": "code",
   "execution_count": 4,
   "metadata": {},
   "outputs": [],
   "source": [
    "from scipy.sparse import diags\n",
    "\n",
    "def fdm(x,L,n,q,EI):\n",
    "    \"\"\"\n",
    "    Function solves for deflections using the finite difference method. \n",
    "    \n",
    "    Inputs:x = List of nodes\n",
    "           L = Length of beam\n",
    "           n = number of nodes\n",
    "           q = loading condition\n",
    "           EI = Mechanical constants\n",
    "    Outputs:u = matrix with displacements at each node\n",
    "    \"\"\"\n",
    "    dx=x[1]-x[0]\n",
    "    A_mat=diags([1, -4, 6, -4, 1], [-2, -1, 0, 1, 2], shape=(n+2, n+2)).toarray()\n",
    "    A_mat=A_mat/(dx**4)\n",
    "    #Create Displacement boundary conditions (Dirichlet b.c.)\n",
    "    bc_w_0=numpy.zeros(n+2)\n",
    "    bc_w_0[1]=1\n",
    "    bc_w_l=numpy.zeros(n+2)\n",
    "    bc_w_l[-2]=1\n",
    "    \n",
    "    #Create Moment boundary conditions (Neumann b.c.)\n",
    "    bc_m_0=numpy.zeros(n+2)\n",
    "    bc_m_0[0]=1/(dx**2)\n",
    "    bc_m_0[2]=1/(dx**2)\n",
    "    bc_m_l=numpy.zeros(n+2)\n",
    "    bc_m_l[-1]=1/(dx**2)\n",
    "    bc_m_l[-3]=1/(dx**2)\n",
    "\n",
    "    #Apply b.c. to A matrix\n",
    "    A_mat[1]=bc_w_0\n",
    "    A_mat[0]=bc_m_0\n",
    "    A_mat[-2]=bc_w_l\n",
    "    A_mat[-1]=bc_m_l\n",
    "\n",
    "    #Create b matrix\n",
    "    b_mat_fx=numpy.vectorize(q)\n",
    "    b_mat=b_mat_fx(x)\n",
    "    b_mat[0]=0\n",
    "    b_mat[-1]=0\n",
    "    b_mat=numpy.insert(b_mat,0,0,axis=0)\n",
    "    b_mat=numpy.append(b_mat,0)\n",
    "    U=numpy.linalg.solve(A_mat, b_mat)\n",
    "    return U[1:-1]/EI"
   ]
  },
  {
   "cell_type": "markdown",
   "metadata": {},
   "source": [
    "Below is a plot of the displacements using the finite difference method for a distributed load.  A numpy.testing routine is used to check the maximum deflection. "
   ]
  },
  {
   "cell_type": "code",
   "execution_count": 5,
   "metadata": {},
   "outputs": [
    {
     "name": "stdout",
     "output_type": "stream",
     "text": [
      "Maximum Deflection of  -1.6660926368710574  at x= 5.1020408163265305\n"
     ]
    },
    {
     "data": {
      "image/png": "[encoded data removed]",
      "text/plain": [
       "<Figure size 432x288 with 1 Axes>"
      ]
     },
     "metadata": {
      "needs_background": "light"
     },
     "output_type": "display_data"
    }
   ],
   "source": [
    "n=50\n",
    "x=numpy.linspace(0,L,n)\n",
    "x_e=numpy.linspace(0,L,100)\n",
    "Fdm_dist=fdm(x,L,n,q_constant,EI)\n",
    "plt.plot(x,Fdm_dist,label='FDM')\n",
    "plt.plot(x_e,w_exact_constant(100,EI,L,x_e),label='Exact')\n",
    "plt.xlabel('Distance along beam (ft)')\n",
    "plt.ylabel('Deflection (ft)')\n",
    "plt.title('Deflection plot of Distributed load using 50 nodes')\n",
    "plt.legend()\n",
    "numpy.testing.assert_allclose(-5*10**6/(384*EI),min(Fdm_dist) , rtol=1e-3)\n",
    "print('Maximum Deflection of ',min(Fdm_dist),' at x=',x[numpy.where(Fdm_dist==min(Fdm_dist))[0][0]])"
   ]
  },
  {
   "cell_type": "markdown",
   "metadata": {},
   "source": [
    "Once again this can also be done with a triangular load."
   ]
  },
  {
   "cell_type": "code",
   "execution_count": 6,
   "metadata": {},
   "outputs": [
    {
     "name": "stdout",
     "output_type": "stream",
     "text": [
      "Maximum Deflection of  -0.8346342814784419  at x= 5.1020408163265305\n"
     ]
    },
    {
     "data": {
      "image/png": "[encoded data removed]",
      "text/plain": [
       "<Figure size 432x288 with 1 Axes>"
      ]
     },
     "metadata": {
      "needs_background": "light"
     },
     "output_type": "display_data"
    }
   ],
   "source": [
    "n=50\n",
    "x=numpy.linspace(0,L,n)\n",
    "x_e=numpy.linspace(0,L,100)\n",
    "Fdm_triangle=fdm(x,L,n,q_triangle,EI)\n",
    "plt.plot(x,Fdm_triangle,label='FDM')\n",
    "plt.plot(x_e,w_exact_triangle(100,EI,L,x_e),label='Exact')\n",
    "plt.xlabel('Distance along beam (ft)')\n",
    "plt.ylabel('Deflection (ft)')\n",
    "plt.title('Deflection plot of Distributed load using 50 nodes')\n",
    "plt.legend()\n",
    "print('Maximum Deflection of ',min(Fdm_triangle),' at x=',x[numpy.where(Fdm_triangle==min(Fdm_triangle))[0][0]])"
   ]
  },
  {
   "cell_type": "markdown",
   "metadata": {},
   "source": [
    "#### Error comparison ####\n",
    "To compare the errors between these solutions the area under the curve is compared bewteen the methods and the analytical solution. The area for the shooting method and the finite difference method can be found by summing the trapezoidal area between each node. The analytical solution was found by integrating the displacement with respect to x and evaluating from 0 to L. For a distributed load this is given by:<br>\n",
    "<br>$$\n",
    "    \\int_{0}^L w_{distributed} = \\frac{L^5q}{120EI}\n",
    "    $$<br>\n",
    "Code below is a function for evaluating the area under a function using the trapezoidal method."
   ]
  },
  {
   "cell_type": "code",
   "execution_count": 7,
   "metadata": {},
   "outputs": [],
   "source": [
    "def trapezoid_area(f,x):\n",
    "    \"\"\"\n",
    "    Function evaluates trapezoidal area under curve.\n",
    "    \n",
    "    Inputs:f = List of y values\n",
    "           x = List of x values\n",
    "    Outputs:area = Total area\n",
    "    \"\"\"\n",
    "    dx=x[1]-x[0]\n",
    "    area=0\n",
    "    for i in range(len(f)-1):\n",
    "        area=abs(0.5*(f[i+1]+f[i])*dx)+area\n",
    "    return area"
   ]
  },
  {
   "cell_type": "markdown",
   "metadata": {},
   "source": [
    "The following code is the shooting method code adapted to find the area given the number of nodes."
   ]
  },
  {
   "cell_type": "code",
   "execution_count": 8,
   "metadata": {},
   "outputs": [],
   "source": [
    "def shooting_area(N):\n",
    "    \"\"\"\n",
    "    Adapted shooting method function to calculate area under curve using trapezoidal equation\n",
    "    \n",
    "    Inputs:N = Number of nodes\n",
    "    Outputs:area = Total trapezoidal area under curve using shooting method\n",
    "    \"\"\"\n",
    "    x = numpy.linspace(0, int(L), int(N))\n",
    "    #Boundary conditions\n",
    "    m_0=0\n",
    "    m_L=0\n",
    "    w_0=0\n",
    "    w_L=0\n",
    "\n",
    "    #Initial Guesses\n",
    "    v_0=1\n",
    "    theta_0=1 \n",
    "\n",
    "    #Implement shooting method optimized with Secant Method\n",
    "    max_iter_v = 100\n",
    "    max_iter_t = 100\n",
    "    \n",
    "    tol=1e-10\n",
    "    #Initialize brackets for Secant Method\n",
    "    x_0=v_0\n",
    "    x_1=v_0+1\n",
    "    t_0=theta_0\n",
    "    t_1=theta_0+1\n",
    "\n",
    "    sol_array = []\n",
    "    for k in range(1, max_iter_v + 1):\n",
    "\n",
    "        #Implement Secant method for moment against shear\n",
    "        f_x_0=integrate_fx(w_0,theta_0,m_0,x_0,f_dist,N)[2][-1]\n",
    "        f_x_1=integrate_fx(w_0,theta_0,m_0,x_1,f_dist,N)[2][-1]\n",
    "\n",
    "        x_2 = x_1 - f_x_1 * (x_1 - x_0) / (f_x_1 - f_x_0)\n",
    "        f_x_2=integrate_fx(w_0,theta_0,m_0,x_2,f_dist,N)[2][-1]\n",
    "        err=numpy.abs(f_x_2)\n",
    "        sol_array.append(x_2)\n",
    "        if err < tol:\n",
    "            break\n",
    "        x_0 = x_1\n",
    "        x_1 = x_2\n",
    "\n",
    "        if k == max_iter_v:\n",
    "            warnings.warn('Maximum number of steps exceeded for Secant Method (Moment-Shear)')#\n",
    "\n",
    "    for j in range(1, max_iter_t + 1):\n",
    "\n",
    "        #Implement Secant method for deflection against rotation\n",
    "        f_x_0t=integrate_fx(w_0,t_0,m_0,x_2,f_dist,N)[0][-1]\n",
    "        f_x_1t=integrate_fx(w_0,t_1,m_0,x_2,f_dist,N)[0][-1]\n",
    "\n",
    "        t_2 = t_1 - f_x_1t * (t_1 - t_0) / (f_x_1t - f_x_0t)\n",
    "        f_x_2t=integrate_fx(w_0,t_2,m_0,x_2,f_dist,N)[0][-1]\n",
    "        err=numpy.abs(f_x_2t)\n",
    "        sol_array.append(f_x_2t)\n",
    "        if err < tol:\n",
    "            break\n",
    "        t_0 = t_1\n",
    "        t_1 = t_2\n",
    "        #\n",
    "        if j == max_iter_t:\n",
    "            warnings.warn('Maximum number of steps exceeded for Secant Method (Deflection-Rotation)')\n",
    "    sol=integrate_fx(w_0,t_2,m_0,x_2,f_dist,N)\n",
    "    area=trapezoid_area(sol[0,:],x)\n",
    "    return area"
   ]
  },
  {
   "cell_type": "markdown",
   "metadata": {},
   "source": [
    "A similar function can be written for the finite difference method"
   ]
  },
  {
   "cell_type": "code",
   "execution_count": 9,
   "metadata": {},
   "outputs": [],
   "source": [
    "def fdm_area(N):\n",
    "    \"\"\"\n",
    "    Function to calculate area under curve of finite difference method using trapezoidal equation\n",
    "    \n",
    "    Inputs:N = Number of nodes\n",
    "    Outputs:area = Total trapezoidal area under curve using shooting method\n",
    "    \"\"\"\n",
    "    x = numpy.linspace(0, int(L), int(N))\n",
    "    f = fdm(x,L,N,q_constant,EI)\n",
    "    area=trapezoid_area(f,x)\n",
    "    return area"
   ]
  },
  {
   "cell_type": "markdown",
   "metadata": {},
   "source": [
    "Finally, the code block below produces a plot comparing absolute errors between the two methods."
   ]
  },
  {
   "cell_type": "code",
   "execution_count": 10,
   "metadata": {},
   "outputs": [
    {
     "data": {
      "text/plain": [
       "<matplotlib.legend.Legend at 0x7fa655d7cd68>"
      ]
     },
     "execution_count": 10,
     "metadata": {},
     "output_type": "execute_result"
    },
    {
     "data": {
      "image/png": "[encoded data removed]",
      "text/plain": [
       "<Figure size 432x288 with 1 Axes>"
      ]
     },
     "metadata": {
      "needs_background": "light"
     },
     "output_type": "display_data"
    }
   ],
   "source": [
    "shooting_errors=[]\n",
    "fdm_errors=[]\n",
    "for i in range(2,150):\n",
    "    exact=L**5*100/(120*EI)\n",
    "    shooting_errors.append(abs(exact-shooting_area(i)))\n",
    "    fdm_errors.append(abs(exact-fdm_area(i)))\n",
    "    \n",
    "plt.loglog(range(2,150),shooting_errors,label='Shooting Method')\n",
    "plt.loglog(range(2,150),fdm_errors, label='Finite Difference Method')\n",
    "plt.title('Loglog plot of absolute error Convergence')\n",
    "plt.xlabel('Number of Nodes')\n",
    "plt.ylabel('Absolute Error')\n",
    "plt.legend()"
   ]
  }
 ],
 "metadata": {
  "kernelspec": {
   "display_name": "Python 3",
   "language": "python",
   "name": "python3"
  },
  "language_info": {
   "codemirror_mode": {
    "name": "ipython",
    "version": 3
   },
   "file_extension": ".py",
   "mimetype": "text/x-python",
   "name": "python",
   "nbconvert_exporter": "python",
   "pygments_lexer": "ipython3",
   "version": "3.6.9"
  }
 },
 "nbformat": 4,
 "nbformat_minor": 4
}
